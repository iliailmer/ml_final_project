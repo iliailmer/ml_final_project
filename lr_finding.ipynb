{
 "cells": [
  {
   "cell_type": "code",
   "execution_count": 1,
   "metadata": {},
   "outputs": [
    {
     "name": "stdout",
     "output_type": "stream",
     "text": [
      "Loaded pretrained weights for efficientnet-b0\n"
     ]
    }
   ],
   "source": [
    "from torch_lr_finder import LRFinder\n",
    "from models import ENet, SRNet\n",
    "import numpy as np\n",
    "import os\n",
    "\n",
    "model = ENet('efficientnet-b0')\n",
    "data_dir = '../input/alaska2-image-steganalysis'\n",
    "sample_size = 5000\n",
    "val_size = int(sample_size*0.25)\n",
    "\n",
    "\n",
    "jmipod = sorted([f'../input/alaska2-image-steganalysis/JMiPOD/{x}'\n",
    "                 for x in os.listdir('../input/alaska2-image-steganalysis/JMiPOD/')],\n",
    "                key=lambda x: x.split('/')[-1].split('.')[0])[:sample_size]\n",
    "juniward = sorted([f'../input/alaska2-image-steganalysis/JUNIWARD/{x}'\n",
    "                   for x in os.listdir('../input/alaska2-image-steganalysis/JUNIWARD/')])[:sample_size]\n",
    "uerd = sorted([f'../input/alaska2-image-steganalysis/UERD/{x}'\n",
    "               for x in os.listdir('../input/alaska2-image-steganalysis/UERD/')])[:sample_size]\n",
    "covers = sorted([f'../input/alaska2-image-steganalysis/Cover/{x}'\n",
    "                 for x in os.listdir('../input/alaska2-image-steganalysis/Cover/')])[:sample_size]\n",
    "test = [f'../input/alaska2-image-steganalysis/Test/{x}'\n",
    "        for x in os.listdir('../input/alaska2-image-steganalysis/Test/')]\n",
    "\n",
    "labels = {f'{id}': 0 for id in covers}\n",
    "labels.update({f'{id}': 1 for id in jmipod})\n",
    "labels.update({f'{id}': 2 for id in juniward})\n",
    "labels.update({f'{id}': 3 for id in uerd})\n",
    "\n",
    "items = np.array(list(labels.items()))\n",
    "np.random.shuffle(items)\n",
    "labels = {idx_: int(label) for (idx_, label) in items}\n",
    "train_keys = list(labels.keys())"
   ]
  },
  {
   "cell_type": "code",
   "execution_count": 5,
   "metadata": {},
   "outputs": [],
   "source": [
    "import albumentations as albu\n",
    "from albumentations.pytorch import ToTensorV2\n",
    "from torch.utils.data import DataLoader\n",
    "from dataset import ALASKAData2\n",
    "p=0.5\n",
    "train_data = DataLoader(\n",
    "    ALASKAData2(\n",
    "        train_keys, labels, albu.Compose([\n",
    "            albu.HorizontalFlip(p=p),\n",
    "            albu.VerticalFlip(p=p),\n",
    "            albu.Normalize(),\n",
    "            ToTensorV2()  # albu.Lambda(image=to_tensor)\n",
    "        ])\n",
    "    ), batch_size=12, shuffle=True, num_workers=2)\n",
    "\n",
    "\n"
   ]
  },
  {
   "cell_type": "code",
   "execution_count": 6,
   "metadata": {},
   "outputs": [
    {
     "data": {
      "application/vnd.jupyter.widget-view+json": {
       "model_id": "33a0929b1e3d465190ff60ebc625dfed",
       "version_major": 2,
       "version_minor": 0
      },
      "text/plain": [
       "HBox(children=(FloatProgress(value=0.0, max=500.0), HTML(value='')))"
      ]
     },
     "metadata": {},
     "output_type": "display_data"
    },
    {
     "name": "stdout",
     "output_type": "stream",
     "text": [
      "Stopping early, the loss has diverged\n",
      "\n",
      "Learning rate search finished. See the graph with {finder_name}.plot()\n"
     ]
    },
    {
     "data": {
      "image/png": "[encoded data removed]",
      "text/plain": [
       "<Figure size 432x288 with 1 Axes>"
      ]
     },
     "metadata": {
      "needs_background": "light"
     },
     "output_type": "display_data"
    }
   ],
   "source": [
    "from torch import nn, optim\n",
    "criterion = nn.CrossEntropyLoss()\n",
    "optimizer = optim.AdamW(model.parameters(), lr=1e-7, weight_decay=1e-2)\n",
    "lr_finder = LRFinder(model, optimizer, criterion, device=\"cuda\")\n",
    "lr_finder.range_test(train_data, end_lr=100, num_iter=500)\n",
    "lr_finder.plot() # to inspect the loss-learning rate graph\n",
    "lr_finder.reset() # to reset the model and optimizer to their initial state"
   ]
  },
  {
   "cell_type": "code",
   "execution_count": 7,
   "metadata": {},
   "outputs": [
    {
     "data": {
      "text/plain": [
       "1.3709757360410735"
      ]
     },
     "execution_count": 7,
     "metadata": {},
     "output_type": "execute_result"
    }
   ],
   "source": [
    "lr_finder.best_loss"
   ]
  },
  {
   "cell_type": "code",
   "execution_count": 4,
   "metadata": {},
   "outputs": [],
   "source": [
    "train_data.dataset.__getitem__??"
   ]
  },
  {
   "cell_type": "code",
   "execution_count": 16,
   "metadata": {},
   "outputs": [
    {
     "data": {
      "text/plain": [
       "16384"
      ]
     },
     "execution_count": 16,
     "metadata": {},
     "output_type": "execute_result"
    }
   ],
   "source": [
    "8192*2"
   ]
  },
  {
   "cell_type": "code",
   "execution_count": null,
   "metadata": {},
   "outputs": [],
   "source": []
  }
 ],
 "metadata": {
  "kernelspec": {
   "display_name": "Python 3",
   "language": "python",
   "name": "python3"
  },
  "language_info": {
   "codemirror_mode": {
    "name": "ipython",
    "version": 3
   },
   "file_extension": ".py",
   "mimetype": "text/x-python",
   "name": "python",
   "nbconvert_exporter": "python",
   "pygments_lexer": "ipython3",
   "version": "3.7.7"
  }
 },
 "nbformat": 4,
 "nbformat_minor": 4
}
